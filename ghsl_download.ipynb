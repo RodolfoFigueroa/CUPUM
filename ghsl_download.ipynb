{
 "cells": [
  {
   "cell_type": "code",
   "execution_count": 17,
   "metadata": {},
   "outputs": [],
   "source": [
    "import os\n",
    "import shutil\n",
    "\n",
    "from io import BytesIO\n",
    "from pathlib import Path\n",
    "from urllib.request import urlopen, HTTPError\n",
    "from zipfile import ZipFile"
   ]
  },
  {
   "cell_type": "code",
   "execution_count": 15,
   "metadata": {},
   "outputs": [],
   "source": [
    "row_idx = [5, 6, 7, 8]\n",
    "col_idx = [7, 8, 9, 10, 11]\n",
    "years = range(1975, 2021, 5)"
   ]
  },
  {
   "cell_type": "code",
   "execution_count": 18,
   "metadata": {},
   "outputs": [],
   "source": [
    "ghsl_path = Path(os.getenv(\"GHSL_PATH\"))"
   ]
  },
  {
   "cell_type": "code",
   "execution_count": 20,
   "metadata": {},
   "outputs": [],
   "source": [
    "for year in years:\n",
    "    out_dir = ghsl_path / f\"POP_100_CHUNKED/{year}\"\n",
    "    for r in row_idx:\n",
    "        for c in col_idx:\n",
    "            out_path = out_dir / f\"R{r}_C{c}.tif\"\n",
    "            if out_path.exists():\n",
    "                continue\n",
    "\n",
    "            fname = f\"GHS_POP_E{year}_GLOBE_R2023A_54009_100_V1_0_R{r}_C{c}.tif\"\n",
    "            url = f\"https://jeodpp.jrc.ec.europa.eu/ftp/jrc-opendata/GHSL/GHS_POP_GLOBE_R2023A/GHS_POP_E{year}_GLOBE_R2023A_54009_100/V1-0/tiles/GHS_POP_E{year}_GLOBE_R2023A_54009_100_V1_0_R{r}_C{c}.zip\"\n",
    "            try:\n",
    "                with urlopen(url) as response:\n",
    "                    with ZipFile(BytesIO(response.read())) as zip:\n",
    "                        with zip.open(fname) as source, open(out_path, \"wb\") as target:\n",
    "                            shutil.copyfileobj(source, target)\n",
    "            except HTTPError as e:\n",
    "                if e.code == 404:\n",
    "                    continue\n",
    "                else:\n",
    "                    raise e"
   ]
  },
  {
   "cell_type": "code",
   "execution_count": 10,
   "metadata": {},
   "outputs": [
    {
     "ename": "NameError",
     "evalue": "name 'response' is not defined",
     "output_type": "error",
     "traceback": [
      "\u001b[1;31m---------------------------------------------------------------------------\u001b[0m",
      "\u001b[1;31mNameError\u001b[0m                                 Traceback (most recent call last)",
      "Cell \u001b[1;32mIn[10], line 1\u001b[0m\n\u001b[1;32m----> 1\u001b[0m \u001b[43mresponse\u001b[49m\n",
      "\u001b[1;31mNameError\u001b[0m: name 'response' is not defined"
     ]
    }
   ],
   "source": [
    "response"
   ]
  },
  {
   "cell_type": "code",
   "execution_count": 9,
   "metadata": {},
   "outputs": [
    {
     "data": {
      "text/plain": [
       "'https://jeodpp.jrc.ec.europa.eu/ftp/jrc-opendata/GHSL/GHS_POP_GLOBE_R2023A/GHS_POP_E2020_GLOBE_R2023A_54009_100/V1-0/tiles/GHS_POP_E2020_GLOBE_R2023A_54009_100_V1_0_R5_C7.zip'"
      ]
     },
     "execution_count": 9,
     "metadata": {},
     "output_type": "execute_result"
    }
   ],
   "source": [
    "url"
   ]
  },
  {
   "cell_type": "code",
   "execution_count": null,
   "metadata": {},
   "outputs": [],
   "source": []
  }
 ],
 "metadata": {
  "kernelspec": {
   "display_name": ".venv",
   "language": "python",
   "name": "python3"
  },
  "language_info": {
   "codemirror_mode": {
    "name": "ipython",
    "version": 3
   },
   "file_extension": ".py",
   "mimetype": "text/x-python",
   "name": "python",
   "nbconvert_exporter": "python",
   "pygments_lexer": "ipython3",
   "version": "3.12.8"
  }
 },
 "nbformat": 4,
 "nbformat_minor": 2
}
