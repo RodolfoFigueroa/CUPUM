{
 "cells": [
  {
   "cell_type": "code",
   "execution_count": 46,
   "metadata": {},
   "outputs": [],
   "source": [
    "import os\n",
    "import rasterio.mask\n",
    "\n",
    "import contextily as cx\n",
    "import geopandas as gpd\n",
    "import matplotlib.colors as mcol\n",
    "import matplotlib.pyplot as plt\n",
    "import numpy as np\n",
    "import pandas as pd\n",
    "import rasterio as rio\n",
    "\n",
    "from pathlib import Path"
   ]
  },
  {
   "cell_type": "code",
   "execution_count": 55,
   "metadata": {},
   "outputs": [],
   "source": [
    "pg_path = Path(os.getenv(\"PG_PATH\"))\n",
    "ghsl_path = Path(os.getenv(\"GHSL_PATH\"))\n",
    "data_path = Path(os.getenv(\"DATA_PATH\"))\n",
    "\n",
    "raster_path = ghsl_path / \"POP_100_CHUNKED/2020\""
   ]
  },
  {
   "cell_type": "code",
   "execution_count": 60,
   "metadata": {},
   "outputs": [],
   "source": [
    "zone_list = gpd.read_file(pg_path / \"initial/metropoli/2020/Metropolis_2020.shp\")[\"CVE_MET\"].unique()"
   ]
  },
  {
   "cell_type": "code",
   "execution_count": 52,
   "metadata": {},
   "outputs": [],
   "source": [
    "def calculate_pops(df: gpd.GeoDataFrame):\n",
    "    pop = {}\n",
    "    for path in raster_path.glob(\"*.tif\"):\n",
    "        with rio.open(path, nodata=-200) as ds:\n",
    "            for i, geom in df[\"geometry\"].items():\n",
    "                try:\n",
    "                    masked, _ = rio.mask.mask(ds, [geom], crop=True, nodata=-200)\n",
    "                except ValueError:\n",
    "                    continue\n",
    "                \n",
    "                masked = masked.astype(float)\n",
    "                masked[masked == -200] = np.nan\n",
    "                \n",
    "                if i in pop:\n",
    "                    pop[i] += np.nansum(masked)\n",
    "                else:\n",
    "                    pop[i] = np.nansum(masked)\n",
    "\n",
    "    pop = pd.Series(pop)\n",
    "\n",
    "    df = df.assign(ghsl=pop, difference=lambda df: df.census - df.ghsl)\n",
    "    return df"
   ]
  },
  {
   "cell_type": "code",
   "execution_count": 65,
   "metadata": {},
   "outputs": [],
   "source": [
    "figure_path = data_path / \"figures/ghsl_inside_agebs\"\n",
    "df_path = data_path / \"polygons/ghsl_inside_agebs\"\n",
    "\n",
    "for cve in zone_list:\n",
    "    try:\n",
    "        df = gpd.read_file(pg_path / f\"final/zone_agebs/shaped/2020/{cve}.gpkg\").to_crs(\"ESRI:54009\").rename(columns={\"POBTOT\": \"census\"})\n",
    "    except Exception:\n",
    "        continue\n",
    "\n",
    "    df = calculate_pops(df)\n",
    "    df.to_file(df_path / f\"{cve}.gpkg\")\n",
    "\n",
    "    norm = mcol.TwoSlopeNorm(0, df[\"difference\"].min(), df[\"difference\"].max())\n",
    "\n",
    "    fig, ax = plt.subplots(figsize=(10, 10))\n",
    "    df.plot(column=\"difference\", cmap=\"RdBu\", norm=norm, legend=True, ax=ax, ec=\"grey\", lw=0.3)\n",
    "    ax.axis(\"off\")\n",
    "    cx.add_basemap(ax=ax, crs=\"ESRI:54009\", source=cx.providers.CartoDB.Positron)\n",
    "\n",
    "    ax.set_title(f\"{cve}\\ncenso - GHSL\")\n",
    "\n",
    "    fig.savefig(figure_path / f\"{cve}.jpg\", bbox_inches=\"tight\", dpi=150)\n",
    "    plt.close()"
   ]
  },
  {
   "cell_type": "code",
   "execution_count": null,
   "metadata": {},
   "outputs": [],
   "source": []
  }
 ],
 "metadata": {
  "kernelspec": {
   "display_name": ".venv",
   "language": "python",
   "name": "python3"
  },
  "language_info": {
   "codemirror_mode": {
    "name": "ipython",
    "version": 3
   },
   "file_extension": ".py",
   "mimetype": "text/x-python",
   "name": "python",
   "nbconvert_exporter": "python",
   "pygments_lexer": "ipython3",
   "version": "3.12.8"
  }
 },
 "nbformat": 4,
 "nbformat_minor": 2
}
